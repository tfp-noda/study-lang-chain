{
 "cells": [
  {
   "cell_type": "code",
   "execution_count": 35,
   "metadata": {},
   "outputs": [
    {
     "name": "stdout",
     "output_type": "stream",
     "text": [
      "年間保険料は14,325,500円と記載されていますが、被保険者名や対象者に関する情報は提供されていません。\n",
      "Tokens Used: 1651\n",
      "\tPrompt Tokens: 1601\n",
      "\tCompletion Tokens: 50\n",
      "Successful Requests: 1\n",
      "Total Cost (USD): $0.0025015\n"
     ]
    }
   ],
   "source": [
    "from langchain.chat_models import ChatOpenAI\n",
    "from langchain.document_loaders import UnstructuredFileLoader\n",
    "from langchain.text_splitter import CharacterTextSplitter\n",
    "from langchain.vectorstores import Chroma\n",
    "from langchain.embeddings import OpenAIEmbeddings, CacheBackedEmbeddings\n",
    "from langchain.callbacks import get_openai_callback\n",
    "from langchain.storage import LocalFileStore\n",
    "from langchain.chains import RetrievalQA\n",
    "\n",
    "llm = ChatOpenAI(model_name=\"gpt-3.5-turbo\", temperature=0)\n",
    "\n",
    "cache_dir = LocalFileStore(\"./tmp/embeddings\")\n",
    "\n",
    "splitter = CharacterTextSplitter.from_tiktoken_encoder(\n",
    "    separator=\"\\n\",\n",
    "    chunk_size = 600,\n",
    "    chunk_overlap = 100\n",
    ")\n",
    "\n",
    "loader = UnstructuredFileLoader(\"./tmp/read3.pdf\")\n",
    "\n",
    "docs = loader.load_and_split(text_splitter=splitter) \n",
    "\n",
    "embeddings = OpenAIEmbeddings()\n",
    "\n",
    "cached_embeddings = CacheBackedEmbeddings.from_bytes_store(\n",
    "    embeddings, cache_dir\n",
    ")\n",
    "\n",
    "question = \"年間保険料をいくらだと記載されている、被保険者名または対象者はなんと記載されている\"\n",
    "\n",
    "with get_openai_callback() as usage:\n",
    "    vectorstore = Chroma.from_documents(documents=docs, embedding=cached_embeddings)\n",
    "    # result = vectorstore.similarity_search(question)\n",
    "    chain = RetrievalQA.from_chain_type(\n",
    "        llm=llm,\n",
    "        chain_type=\"stuff\",\n",
    "        retriever=vectorstore.as_retriever(),\n",
    "    )\n",
    "\n",
    "    result = chain.run(question);\n",
    "    print(result)\n",
    "    print(usage)\n"
   ]
  }
 ],
 "metadata": {
  "kernelspec": {
   "display_name": "env",
   "language": "python",
   "name": "python3"
  },
  "language_info": {
   "codemirror_mode": {
    "name": "ipython",
    "version": 3
   },
   "file_extension": ".py",
   "mimetype": "text/x-python",
   "name": "python",
   "nbconvert_exporter": "python",
   "pygments_lexer": "ipython3",
   "version": "3.10.12"
  }
 },
 "nbformat": 4,
 "nbformat_minor": 2
}
