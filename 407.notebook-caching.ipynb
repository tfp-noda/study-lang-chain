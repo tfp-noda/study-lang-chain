{
 "cells": [
  {
   "cell_type": "code",
   "execution_count": 13,
   "metadata": {},
   "outputs": [],
   "source": [
    "from langchain.chat_models import ChatOpenAI\n",
    "from langchain.callbacks import StreamingStdOutCallbackHandler\n",
    "from langchain.globals import set_llm_cache, set_debug\n",
    "from langchain.cache import InMemoryCache \n",
    "\n",
    "\n",
    "chat = ChatOpenAI(\n",
    "    temperature=0.1,\n",
    "    # streaming=True,\n",
    "    # callbacks=[StreamingStdOutCallbackHandler()]\n",
    ")\n",
    "\n",
    "\n"
   ]
  },
  {
   "cell_type": "code",
   "execution_count": 8,
   "metadata": {},
   "outputs": [
    {
     "name": "stdout",
     "output_type": "stream",
     "text": [
      "\u001b[32;1m\u001b[1;3m[llm/start]\u001b[0m \u001b[1m[1:llm:ChatOpenAI] Entering LLM run with input:\n",
      "\u001b[0m{\n",
      "  \"prompts\": [\n",
      "    \"Human: 東京駅から赤坂までの最短ルートを教えてください。\"\n",
      "  ]\n",
      "}\n"
     ]
    },
    {
     "name": "stderr",
     "output_type": "stream",
     "text": [
      "Retrying langchain.chat_models.openai.ChatOpenAI.completion_with_retry.<locals>._completion_with_retry in 4.0 seconds as it raised APIError: Bad gateway. {\"error\":{\"code\":502,\"message\":\"Bad gateway.\",\"param\":null,\"type\":\"cf_bad_gateway\"}} 502 {'error': {'code': 502, 'message': 'Bad gateway.', 'param': None, 'type': 'cf_bad_gateway'}} {'Date': 'Wed, 14 Feb 2024 15:11:34 GMT', 'Content-Type': 'application/json', 'Content-Length': '84', 'Connection': 'keep-alive', 'X-Frame-Options': 'SAMEORIGIN', 'Referrer-Policy': 'same-origin', 'Cache-Control': 'private, max-age=0, no-store, no-cache, must-revalidate, post-check=0, pre-check=0', 'Expires': 'Thu, 01 Jan 1970 00:00:01 GMT', 'Server': 'cloudflare', 'CF-RAY': '85563ddf5a2c809c-NRT', 'alt-svc': 'h3=\":443\"; ma=86400'}.\n"
     ]
    },
    {
     "name": "stdout",
     "output_type": "stream",
     "text": [
      "\u001b[36;1m\u001b[1;3m[llm/end]\u001b[0m \u001b[1m[1:llm:ChatOpenAI] [52.49s] Exiting LLM run with output:\n",
      "\u001b[0m{\n",
      "  \"generations\": [\n",
      "    [\n",
      "      {\n",
      "        \"text\": \"東京駅から赤坂までの最短ルートは以下の通りです。\\n\\n1. 東京駅の地下鉄丸ノ内線のホームに向かいます。\\n2. 地下鉄丸ノ内線に乗り、赤坂見附駅で下車します。\\n3. 赤坂見附駅を出て、赤坂方面に進みます。\\n\\nこのルートで約15分ほどで赤坂に到着することができます。ただし、混雑状況や時間帯によって所要時間が変わる場合がありますので、事前に最新の時刻表や運行情報を確認することをおすすめします。\",\n",
      "        \"generation_info\": {\n",
      "          \"finish_reason\": \"stop\"\n",
      "        },\n",
      "        \"type\": \"ChatGeneration\",\n",
      "        \"message\": {\n",
      "          \"lc\": 1,\n",
      "          \"type\": \"constructor\",\n",
      "          \"id\": [\n",
      "            \"langchain\",\n",
      "            \"schema\",\n",
      "            \"messages\",\n",
      "            \"AIMessage\"\n",
      "          ],\n",
      "          \"kwargs\": {\n",
      "            \"content\": \"東京駅から赤坂までの最短ルートは以下の通りです。\\n\\n1. 東京駅の地下鉄丸ノ内線のホームに向かいます。\\n2. 地下鉄丸ノ内線に乗り、赤坂見附駅で下車します。\\n3. 赤坂見附駅を出て、赤坂方面に進みます。\\n\\nこのルートで約15分ほどで赤坂に到着することができます。ただし、混雑状況や時間帯によって所要時間が変わる場合がありますので、事前に最新の時刻表や運行情報を確認することをおすすめします。\",\n",
      "            \"additional_kwargs\": {}\n",
      "          }\n",
      "        }\n",
      "      }\n",
      "    ]\n",
      "  ],\n",
      "  \"llm_output\": {\n",
      "    \"token_usage\": {\n",
      "      \"prompt_tokens\": 34,\n",
      "      \"completion_tokens\": 219,\n",
      "      \"total_tokens\": 253\n",
      "    },\n",
      "    \"model_name\": \"gpt-3.5-turbo\",\n",
      "    \"system_fingerprint\": null\n",
      "  },\n",
      "  \"run\": null\n",
      "}\n"
     ]
    },
    {
     "data": {
      "text/plain": [
       "'東京駅から赤坂までの最短ルートは以下の通りです。\\n\\n1. 東京駅の地下鉄丸ノ内線のホームに向かいます。\\n2. 地下鉄丸ノ内線に乗り、赤坂見附駅で下車します。\\n3. 赤坂見附駅を出て、赤坂方面に進みます。\\n\\nこのルートで約15分ほどで赤坂に到着することができます。ただし、混雑状況や時間帯によって所要時間が変わる場合がありますので、事前に最新の時刻表や運行情報を確認することをおすすめします。'"
      ]
     },
     "execution_count": 8,
     "metadata": {},
     "output_type": "execute_result"
    }
   ],
   "source": [
    "set_llm_cache(InMemoryCache())\n",
    "set_debug(True)\n",
    "chat.predict(\"東京駅から赤坂までの最短ルートを教えてください。\")\n"
   ]
  },
  {
   "cell_type": "code",
   "execution_count": 9,
   "metadata": {},
   "outputs": [
    {
     "name": "stdout",
     "output_type": "stream",
     "text": [
      "\u001b[32;1m\u001b[1;3m[llm/start]\u001b[0m \u001b[1m[1:llm:ChatOpenAI] Entering LLM run with input:\n",
      "\u001b[0m{\n",
      "  \"prompts\": [\n",
      "    \"Human: 東京駅から赤坂までの最短ルートを教えてください。\"\n",
      "  ]\n",
      "}\n",
      "\u001b[36;1m\u001b[1;3m[llm/end]\u001b[0m \u001b[1m[1:llm:ChatOpenAI] [1ms] Exiting LLM run with output:\n",
      "\u001b[0m{\n",
      "  \"generations\": [\n",
      "    [\n",
      "      {\n",
      "        \"text\": \"東京駅から赤坂までの最短ルートは以下の通りです。\\n\\n1. 東京駅の地下鉄丸ノ内線のホームに向かいます。\\n2. 地下鉄丸ノ内線に乗り、赤坂見附駅で下車します。\\n3. 赤坂見附駅を出て、赤坂方面に進みます。\\n\\nこのルートで約15分ほどで赤坂に到着することができます。ただし、混雑状況や時間帯によって所要時間が変わる場合がありますので、事前に最新の時刻表や運行情報を確認することをおすすめします。\",\n",
      "        \"generation_info\": {\n",
      "          \"finish_reason\": \"stop\"\n",
      "        },\n",
      "        \"type\": \"ChatGeneration\",\n",
      "        \"message\": {\n",
      "          \"lc\": 1,\n",
      "          \"type\": \"constructor\",\n",
      "          \"id\": [\n",
      "            \"langchain\",\n",
      "            \"schema\",\n",
      "            \"messages\",\n",
      "            \"AIMessage\"\n",
      "          ],\n",
      "          \"kwargs\": {\n",
      "            \"content\": \"東京駅から赤坂までの最短ルートは以下の通りです。\\n\\n1. 東京駅の地下鉄丸ノ内線のホームに向かいます。\\n2. 地下鉄丸ノ内線に乗り、赤坂見附駅で下車します。\\n3. 赤坂見附駅を出て、赤坂方面に進みます。\\n\\nこのルートで約15分ほどで赤坂に到着することができます。ただし、混雑状況や時間帯によって所要時間が変わる場合がありますので、事前に最新の時刻表や運行情報を確認することをおすすめします。\",\n",
      "            \"additional_kwargs\": {}\n",
      "          }\n",
      "        }\n",
      "      }\n",
      "    ]\n",
      "  ],\n",
      "  \"llm_output\": null,\n",
      "  \"run\": null\n",
      "}\n"
     ]
    },
    {
     "data": {
      "text/plain": [
       "'東京駅から赤坂までの最短ルートは以下の通りです。\\n\\n1. 東京駅の地下鉄丸ノ内線のホームに向かいます。\\n2. 地下鉄丸ノ内線に乗り、赤坂見附駅で下車します。\\n3. 赤坂見附駅を出て、赤坂方面に進みます。\\n\\nこのルートで約15分ほどで赤坂に到着することができます。ただし、混雑状況や時間帯によって所要時間が変わる場合がありますので、事前に最新の時刻表や運行情報を確認することをおすすめします。'"
      ]
     },
     "execution_count": 9,
     "metadata": {},
     "output_type": "execute_result"
    }
   ],
   "source": [
    "chat.predict(\"東京駅から赤坂までの最短ルートを教えてください。\")\n"
   ]
  },
  {
   "cell_type": "code",
   "execution_count": 18,
   "metadata": {},
   "outputs": [
    {
     "name": "stdout",
     "output_type": "stream",
     "text": [
      "\u001b[32;1m\u001b[1;3m[llm/start]\u001b[0m \u001b[1m[1:llm:ChatOpenAI] Entering LLM run with input:\n",
      "\u001b[0m{\n",
      "  \"prompts\": [\n",
      "    \"Human: 東京駅から赤坂までの最短ルートを教えてください。\"\n",
      "  ]\n",
      "}\n",
      "\u001b[36;1m\u001b[1;3m[llm/end]\u001b[0m \u001b[1m[1:llm:ChatOpenAI] [2ms] Exiting LLM run with output:\n",
      "\u001b[0m{\n",
      "  \"generations\": [\n",
      "    [\n",
      "      {\n",
      "        \"text\": \"東京駅から赤坂までの最短ルートは以下の通りです。\\n\\n1. 東京駅の地下鉄丸ノ内線のホームに向かいます。\\n2. 地下鉄丸ノ内線に乗り、赤坂見附駅で下車します。\\n3. 赤坂見附駅を出て、赤坂方面に進みます。\\n4. 目的地に到着します。\\n\\nなお、具体的なルートや所要時間は交通状況や乗り換えの時間によって異なる場合がありますので、事前に最新の時刻表やルート案内を確認することをおすすめします。\",\n",
      "        \"generation_info\": {\n",
      "          \"finish_reason\": \"stop\"\n",
      "        },\n",
      "        \"type\": \"ChatGeneration\",\n",
      "        \"message\": {\n",
      "          \"lc\": 1,\n",
      "          \"type\": \"constructor\",\n",
      "          \"id\": [\n",
      "            \"langchain\",\n",
      "            \"schema\",\n",
      "            \"messages\",\n",
      "            \"AIMessage\"\n",
      "          ],\n",
      "          \"kwargs\": {\n",
      "            \"content\": \"東京駅から赤坂までの最短ルートは以下の通りです。\\n\\n1. 東京駅の地下鉄丸ノ内線のホームに向かいます。\\n2. 地下鉄丸ノ内線に乗り、赤坂見附駅で下車します。\\n3. 赤坂見附駅を出て、赤坂方面に進みます。\\n4. 目的地に到着します。\\n\\nなお、具体的なルートや所要時間は交通状況や乗り換えの時間によって異なる場合がありますので、事前に最新の時刻表やルート案内を確認することをおすすめします。\",\n",
      "            \"additional_kwargs\": {}\n",
      "          }\n",
      "        }\n",
      "      }\n",
      "    ]\n",
      "  ],\n",
      "  \"llm_output\": null,\n",
      "  \"run\": null\n",
      "}\n"
     ]
    },
    {
     "data": {
      "text/plain": [
       "'東京駅から赤坂までの最短ルートは以下の通りです。\\n\\n1. 東京駅の地下鉄丸ノ内線のホームに向かいます。\\n2. 地下鉄丸ノ内線に乗り、赤坂見附駅で下車します。\\n3. 赤坂見附駅を出て、赤坂方面に進みます。\\n4. 目的地に到着します。\\n\\nなお、具体的なルートや所要時間は交通状況や乗り換えの時間によって異なる場合がありますので、事前に最新の時刻表やルート案内を確認することをおすすめします。'"
      ]
     },
     "execution_count": 18,
     "metadata": {},
     "output_type": "execute_result"
    }
   ],
   "source": [
    "from langchain.cache import SQLiteCache\n",
    "\n",
    "set_llm_cache(SQLiteCache(\"./tmp/cache.db\"))\n",
    "# from langchain.globals import \n",
    "chat.predict(\"東京駅から赤坂までの最短ルートを教えてください。\")\n"
   ]
  }
 ],
 "metadata": {
  "kernelspec": {
   "display_name": "env",
   "language": "python",
   "name": "python3"
  },
  "language_info": {
   "codemirror_mode": {
    "name": "ipython",
    "version": 3
   },
   "file_extension": ".py",
   "mimetype": "text/x-python",
   "name": "python",
   "nbconvert_exporter": "python",
   "pygments_lexer": "ipython3",
   "version": "3.11.4"
  }
 },
 "nbformat": 4,
 "nbformat_minor": 2
}
