{
 "cells": [
  {
   "cell_type": "code",
   "execution_count": 11,
   "metadata": {},
   "outputs": [],
   "source": [
    "from langchain.chat_models import ChatOpenAI\n",
    "from langchain.prompts import PromptTemplate, ChatPromptTemplate\n"
   ]
  },
  {
   "cell_type": "code",
   "execution_count": 9,
   "metadata": {},
   "outputs": [
    {
     "data": {
      "text/plain": [
       "AIMessage(content='こんにちは、ロシアのミサイルについては、私は正確な情報を持っていません。ミサイルに関する詳細な情報は、ロシア政府や関連する専門家から入手することをおすすめします。')"
      ]
     },
     "execution_count": 9,
     "metadata": {},
     "output_type": "execute_result"
    }
   ],
   "source": [
    "\n",
    "chat = ChatOpenAI(\n",
    "    temperature=0.1\n",
    ")\n",
    "\n",
    "template = ChatPromptTemplate.from_messages([\n",
    "    (\"system\", \"あなたは{name}、返信は日本語のみ\"),\n",
    "    (\"ai\", \"こんにちは、私は{name}です。\"),\n",
    "    (\"human\", \"こんにちは、{name}さん。{country}の{item}はどうですか？\"),\n",
    "])\n",
    "\n",
    "prompt = template.format_messages(\n",
    "    name=\"プチン\",\n",
    "    country=\"ロシア\",\n",
    "    item=\"ミサイル\"\n",
    ")\n",
    "\n",
    "chat.predict_messages(prompt)\n"
   ]
  },
  {
   "cell_type": "code",
   "execution_count": 18,
   "metadata": {},
   "outputs": [
    {
     "data": {
      "text/plain": [
       "['私はオバマではありませんが',\n",
       " 'イングランドプレミアリーグ（EPL）のチームは多数あります。代表的なチームにはマンチェスター・ユナイテッド',\n",
       " 'リバプール',\n",
       " 'チェルシー',\n",
       " 'アーセナル',\n",
       " 'マンチェスター・シティなどがあります。']"
      ]
     },
     "execution_count": 18,
     "metadata": {},
     "output_type": "execute_result"
    }
   ],
   "source": [
    "\n",
    "from langchain.schema import BaseOutputParser\n",
    "\n",
    "class CommaOutputParser(BaseOutputParser):\n",
    "    def parse(self, text):\n",
    "        items = text.strip().split(\"、\")\n",
    "        return list(map(str.strip, items))\n",
    "    \n",
    "template = ChatPromptTemplate.from_messages([\n",
    "    (\"system\", \"あなたは{name}、返信は日本語のみ\"),\n",
    "    (\"human\", \"{question}\"),\n",
    "])\n",
    "\n",
    "chain = template | chat | CommaOutputParser()\n",
    "\n",
    "chain.invoke({\"name\":\"オバマ\", \"question\":\"EPLのチームは何ですか？\"})\n",
    "\n",
    "\n",
    "\n",
    "\n"
   ]
  }
 ],
 "metadata": {
  "kernelspec": {
   "display_name": "env",
   "language": "python",
   "name": "python3"
  },
  "language_info": {
   "codemirror_mode": {
    "name": "ipython",
    "version": 3
   },
   "file_extension": ".py",
   "mimetype": "text/x-python",
   "name": "python",
   "nbconvert_exporter": "python",
   "pygments_lexer": "ipython3",
   "version": "3.11.4"
  }
 },
 "nbformat": 4,
 "nbformat_minor": 2
}
