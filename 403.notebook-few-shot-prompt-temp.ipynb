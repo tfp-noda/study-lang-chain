{
 "cells": [
  {
   "cell_type": "code",
   "execution_count": 3,
   "metadata": {},
   "outputs": [],
   "source": [
    "from langchain.chat_models import ChatOpenAI\n",
    "from langchain.prompts import PromptTemplate\n",
    "from langchain.prompts.few_shot import FewShotPromptTemplate\n",
    "from langchain.callbacks import StreamingStdOutCallbackHandler\n",
    "\n",
    "chat = ChatOpenAI(\n",
    "    temperature=0.1,\n",
    "    streaming=True,\n",
    "    callbacks=[StreamingStdOutCallbackHandler()]\n",
    ")\n",
    "\n"
   ]
  },
  {
   "cell_type": "code",
   "execution_count": 2,
   "metadata": {},
   "outputs": [
    {
     "data": {
      "text/plain": [
       "'日本の首都は何ですか？'"
      ]
     },
     "execution_count": 2,
     "metadata": {},
     "output_type": "execute_result"
    }
   ],
   "source": [
    "\n",
    "# PromptTemplateを利用する場合\n",
    "t = PromptTemplate.from_template(\"{country}の首都は何ですか？\")\n",
    "# or\n",
    "# t = PromptTemplate(\n",
    "#     template=\"{country}の首都は何ですか？\",\n",
    "#     input_variables=[\"country\"]\n",
    "# )\n",
    "\n",
    "t.format(country=\"日本\")"
   ]
  },
  {
   "cell_type": "code",
   "execution_count": 4,
   "metadata": {},
   "outputs": [],
   "source": [
    "#few-shotを利用する場合\n",
    "\n",
    "examples = [\n",
    "{\n",
    "    \"question\": \"フランスについて知っていること?\",\n",
    "    \"answer\": \"\"\"\n",
    "        私はこれを知っています:\n",
    "        首都: パリ\n",
    "        言語: フランス語\n",
    "        食べ物: バゲットとチーズ\n",
    "        通貨: ユーロ\n",
    "    \"\"\",\n",
    "},\n",
    "{\n",
    "    \"question\": \"イタリアについて知っていること?\",\n",
    "    \"answer\": \"\"\"\n",
    "        私はこれを知っています:\n",
    "        首都: ローマ\n",
    "        言語: イタリア語\n",
    "        食べ物: ピザとパスタ\n",
    "        通貨: ユーロ\n",
    "    \"\"\",\n",
    "},\n",
    "{\n",
    "    \"question\": \"アメリカについて知っていること?\",\n",
    "    \"answer\": \"\"\"\n",
    "        私はこれを知っています:\n",
    "        首都: ワシントンD.C.\n",
    "        言語: 英語\n",
    "        食べ物: ハンバーガーとホットドッグ\n",
    "        通貨: ドルå\n",
    "    \"\"\",    \n",
    "},\n",
    "]"
   ]
  },
  {
   "cell_type": "code",
   "execution_count": 14,
   "metadata": {},
   "outputs": [
    {
     "name": "stdout",
     "output_type": "stream",
     "text": [
      "AI: \n",
      "私はこれを知っています:\n",
      "首都: 東京\n",
      "言語: 日本語\n",
      "食べ物: 寿司とラーメン\n",
      "通貨: 円"
     ]
    },
    {
     "data": {
      "text/plain": [
       "AIMessageChunk(content='AI: \\n私はこれを知っています:\\n首都: 東京\\n言語: 日本語\\n食べ物: 寿司とラーメン\\n通貨: 円')"
      ]
     },
     "execution_count": 14,
     "metadata": {},
     "output_type": "execute_result"
    }
   ],
   "source": [
    "\n",
    "example_template = \"\"\"\n",
    "    Human: {question}\n",
    "    AI: {answer}\n",
    "\"\"\"\n",
    "\n",
    "example_prompt = PromptTemplate.from_template(example_template)\n",
    "\n",
    "prompt = FewShotPromptTemplate(\n",
    "    example_prompt=example_prompt,\n",
    "    examples=examples,\n",
    "    suffix=\"Human: {country}について知っていること?\",\n",
    "    input_variables=[\"country\"],\n",
    ")\n",
    "\n",
    "# prompt.format(country=\"日本\")\n",
    "\n",
    "chain = prompt | chat\n",
    "\n",
    "chain.invoke({\"country\":\"日本\"})\n"
   ]
  }
 ],
 "metadata": {
  "kernelspec": {
   "display_name": "env",
   "language": "python",
   "name": "python3"
  },
  "language_info": {
   "codemirror_mode": {
    "name": "ipython",
    "version": 3
   },
   "file_extension": ".py",
   "mimetype": "text/x-python",
   "name": "python",
   "nbconvert_exporter": "python",
   "pygments_lexer": "ipython3",
   "version": "3.11.4"
  }
 },
 "nbformat": 4,
 "nbformat_minor": 2
}
