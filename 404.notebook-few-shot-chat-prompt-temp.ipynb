{
 "cells": [
  {
   "cell_type": "code",
   "execution_count": 11,
   "metadata": {},
   "outputs": [],
   "source": [
    "from langchain.chat_models import ChatOpenAI\n",
    "from langchain.prompts.few_shot import FewShotChatMessagePromptTemplate\n",
    "from langchain.callbacks import StreamingStdOutCallbackHandler\n",
    "from langchain.prompts import ChatPromptTemplate\n",
    "\n",
    "chat = ChatOpenAI(\n",
    "    temperature=0.1,\n",
    "    streaming=True,\n",
    "    callbacks=[StreamingStdOutCallbackHandler()]\n",
    ")\n",
    "\n"
   ]
  },
  {
   "cell_type": "code",
   "execution_count": 12,
   "metadata": {},
   "outputs": [],
   "source": [
    "#few-shotを利用する場合\n",
    "\n",
    "examples = [\n",
    "{\n",
    "    \"question\": \"フランス\",\n",
    "    \"answer\": \"\"\"\n",
    "        私はこれを知っています:\n",
    "        首都: パリ\n",
    "        言語: フランス語\n",
    "        食べ物: バゲットとチーズ\n",
    "        通貨: ユーロ\n",
    "    \"\"\",\n",
    "},\n",
    "{\n",
    "    \"question\": \"イタリア\",\n",
    "    \"answer\": \"\"\"\n",
    "        私はこれを知っています:\n",
    "        首都: ローマ\n",
    "        言語: イタリア語\n",
    "        食べ物: ピザとパスタ\n",
    "        通貨: ユーロ\n",
    "    \"\"\",\n",
    "},\n",
    "{\n",
    "    \"question\": \"アメリカ\",\n",
    "    \"answer\": \"\"\"\n",
    "        私はこれを知っています:\n",
    "        首都: ワシントンD.C.\n",
    "        言語: 英語\n",
    "        食べ物: ハンバーガーとホットドッグ\n",
    "        通貨: ドル\n",
    "    \"\"\",    \n",
    "},\n",
    "]"
   ]
  },
  {
   "cell_type": "code",
   "execution_count": 14,
   "metadata": {},
   "outputs": [
    {
     "name": "stdout",
     "output_type": "stream",
     "text": [
      "私はこれを知っています:\n",
      "        首都: 東京\n",
      "        言語: 日本語\n",
      "        食べ物: 寿司とラーメン\n",
      "        通貨: 円\n",
      "        文化: 着物、茶道、武道、アニメ、マンガなど\n",
      "        観光地: 富士山、京都の神社仏閣、東京ディズニーランドなど"
     ]
    },
    {
     "data": {
      "text/plain": [
       "AIMessageChunk(content='私はこれを知っています:\\n        首都: 東京\\n        言語: 日本語\\n        食べ物: 寿司とラーメン\\n        通貨: 円\\n        文化: 着物、茶道、武道、アニメ、マンガなど\\n        観光地: 富士山、京都の神社仏閣、東京ディズニーランドなど')"
      ]
     },
     "execution_count": 14,
     "metadata": {},
     "output_type": "execute_result"
    }
   ],
   "source": [
    "\n",
    "# example_template = \"\"\"\n",
    "#     Human: {question}\n",
    "#     AI: {answer}\n",
    "# \"\"\"\n",
    "\n",
    "example_prompt = ChatPromptTemplate.from_messages([\n",
    "    (\"human\", \"{question}について知っていること?\"),\n",
    "    (\"ai\", \"{answer}\"),\n",
    "])\n",
    "\n",
    "example_prompt = FewShotChatMessagePromptTemplate(\n",
    "    example_prompt=example_prompt,\n",
    "    examples=examples,\n",
    ")\n",
    "\n",
    "final_prompt = ChatPromptTemplate.from_messages([\n",
    "    (\"system\", \"あなたは学校の先生だ\"),\n",
    "    example_prompt,\n",
    "    (\"human\", \"{country}について知っていること?\")\n",
    "])\n",
    "\n",
    "# prompt.format(country=\"日本\")\n",
    "\n",
    "chain = final_prompt | chat\n",
    "\n",
    "chain.invoke({\"country\":\"日本\"})\n",
    "\n",
    "\n"
   ]
  }
 ],
 "metadata": {
  "kernelspec": {
   "display_name": "env",
   "language": "python",
   "name": "python3"
  },
  "language_info": {
   "codemirror_mode": {
    "name": "ipython",
    "version": 3
   },
   "file_extension": ".py",
   "mimetype": "text/x-python",
   "name": "python",
   "nbconvert_exporter": "python",
   "pygments_lexer": "ipython3",
   "version": "3.11.4"
  }
 },
 "nbformat": 4,
 "nbformat_minor": 2
}
