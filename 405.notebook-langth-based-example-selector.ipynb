{
 "cells": [
  {
   "cell_type": "code",
   "execution_count": 7,
   "metadata": {},
   "outputs": [],
   "source": [
    "from langchain.chat_models import ChatOpenAI\n",
    "from langchain.prompts.few_shot import FewShotPromptTemplate\n",
    "from langchain.callbacks import StreamingStdOutCallbackHandler\n",
    "from langchain.prompts.prompt import PromptTemplate\n",
    "from langchain.prompts.example_selector import LengthBasedExampleSelector\n",
    "from langchain.prompts.example_selector.base import BaseExampleSelector\n",
    "\n",
    "chat = ChatOpenAI(\n",
    "    temperature=0.1,\n",
    "    streaming=True,\n",
    "    callbacks=[StreamingStdOutCallbackHandler()]\n",
    ")\n",
    "\n"
   ]
  },
  {
   "cell_type": "code",
   "execution_count": 9,
   "metadata": {},
   "outputs": [],
   "source": [
    "#few-shotを利用する場合\n",
    "\n",
    "examples = [\n",
    "{\n",
    "    \"question\": \"フランス\",\n",
    "    \"answer\": \"\"\"\n",
    "        私はこれを知っています:\n",
    "        首都: パリ\n",
    "        言語: フランス語\n",
    "        食べ物: バゲットとチーズ\n",
    "        通貨: ユーロ\n",
    "    \"\"\",\n",
    "},\n",
    "{\n",
    "    \"question\": \"イタリア\",\n",
    "    \"answer\": \"\"\"\n",
    "        私はこれを知っています:\n",
    "        首都: ローマ\n",
    "        言語: イタリア語\n",
    "        食べ物: ピザとパスタ\n",
    "        通貨: ユーロ\n",
    "    \"\"\",\n",
    "},\n",
    "{\n",
    "    \"question\": \"アメリカ\",\n",
    "    \"answer\": \"\"\"\n",
    "        私はこれを知っています:\n",
    "        首都: ワシントンD.C.\n",
    "        言語: 英語\n",
    "        食べ物: ハンバーガーとホットドッグ\n",
    "        通貨: ドル\n",
    "    \"\"\",    \n",
    "},\n",
    "]"
   ]
  },
  {
   "cell_type": "code",
   "execution_count": 20,
   "metadata": {},
   "outputs": [],
   "source": [
    "class RandomExampleSelector(BaseExampleSelector):\n",
    "\n",
    "    def __init__(self, examples):\n",
    "        self.examples = examples\n",
    "\n",
    "    def add_example(self, input_varibles: PromptTemplate, example: dict):\n",
    "        self.examples.append(example)\n",
    "\n",
    "    def select_examples(self, input_varibles: PromptTemplate):\n",
    "        from random import choice\n",
    "        return [choice(self.examples)]\n",
    "    \n",
    "\n"
   ]
  },
  {
   "cell_type": "code",
   "execution_count": 39,
   "metadata": {},
   "outputs": [
    {
     "data": {
      "text/plain": [
       "'\\n    Human: アメリカ\\n    AI: \\n        私はこれを知っています:\\n        首都: ワシントンD.C.\\n        言語: 英語\\n        食べ物: ハンバーガーとホットドッグ\\n        通貨: ドル\\n    \\n\\n\\nHuman: 日本について知っていること?'"
      ]
     },
     "execution_count": 39,
     "metadata": {},
     "output_type": "execute_result"
    }
   ],
   "source": [
    "\n",
    "example_template = \"\"\"\n",
    "    Human: {question}\n",
    "    AI: {answer}\n",
    "\"\"\"\n",
    "\n",
    "example_prompt = PromptTemplate.from_template(example_template)\n",
    "\n",
    "# example_selector = LengthBasedExampleSelector(\n",
    "#     examples=examples,\n",
    "#     example_prompt=example_prompt,\n",
    "#     max_length=100,\n",
    "# )\n",
    "\n",
    "example_selector = RandomExampleSelector(\n",
    "    examples=examples\n",
    ")\n",
    "\n",
    "prompt = FewShotPromptTemplate(\n",
    "    example_prompt=example_prompt,\n",
    "    example_selector=example_selector,\n",
    "    suffix=\"Human: {country}について知っていること?\",\n",
    "    input_variables=[\"country\"],\n",
    ")\n",
    "\n",
    "prompt.format(country=\"日本\")\n",
    "\n"
   ]
  }
 ],
 "metadata": {
  "kernelspec": {
   "display_name": "env",
   "language": "python",
   "name": "python3"
  },
  "language_info": {
   "codemirror_mode": {
    "name": "ipython",
    "version": 3
   },
   "file_extension": ".py",
   "mimetype": "text/x-python",
   "name": "python",
   "nbconvert_exporter": "python",
   "pygments_lexer": "ipython3",
   "version": "3.11.4"
  }
 },
 "nbformat": 4,
 "nbformat_minor": 2
}
