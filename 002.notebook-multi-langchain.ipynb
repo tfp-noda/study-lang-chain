{
 "cells": [
  {
   "cell_type": "code",
   "execution_count": 1,
   "metadata": {},
   "outputs": [],
   "source": [
    "from langchain.chat_models import ChatOpenAI\n",
    "from langchain.prompts import ChatPromptTemplate\n",
    "from langchain.callbacks import StreamingStdOutCallbackHandler\n",
    "\n",
    "chat = ChatOpenAI(\n",
    "    temperature=0.1,\n",
    "    streaming=True,\n",
    "    callbacks=[StreamingStdOutCallbackHandler()]\n",
    ")"
   ]
  },
  {
   "cell_type": "code",
   "execution_count": 2,
   "metadata": {},
   "outputs": [
    {
     "name": "stdout",
     "output_type": "stream",
     "text": [
      "カレーのレシピですね。以下に基本的なカレーの作り方をご紹介します。\n",
      "\n",
      "【材料】（4人分）\n",
      "- 鶏肉または牛肉：400g\n",
      "- 玉ねぎ：2個\n",
      "- にんじん：1本\n",
      "- ジャガイモ：2個\n",
      "- ガーリック：2片（みじん切り）\n",
      "- 生姜：1片（みじん切り）\n",
      "- カレールー：4個\n",
      "- 水または鶏/牛のスープ：800ml\n",
      "- サラダ油：大さじ2\n",
      "- 塩：少々\n",
      "- こしょう：少々\n",
      "\n",
      "【作り方】\n",
      "1. 鍋にサラダ油を熱し、みじん切りにしたガーリックと生姜を炒めます。\n",
      "2. 鶏肉または牛肉を加え、全体が焼き色がつくまで炒めます。\n",
      "3. 玉ねぎ、にんじん、ジャガイモをそれぞれ適当な大きさに切り、鍋に加えます。\n",
      "4. 野菜がしんなりするまで炒め続けます。\n",
      "5. 水またはスープを加え、沸騰したら弱火にして約20分間煮込みます。\n",
      "6. カレールーを加え、溶けるまでかき混ぜながら煮込みます。\n",
      "7. 好みで塩とこしょうで味を調え、さらに5分ほど煮込みます。\n",
      "\n",
      "以上が基本的なカレーの作り方です。お好みで他の野菜やスパイスを加えることもできますので、アレンジしてみてください。ご飯やナンと一緒に召し上がれます。カレーのレシピを確認しました。以下が必要な材料です。\n",
      "\n",
      "- 鶏肉または牛肉：400g\n",
      "- 玉ねぎ：2個\n",
      "- にんじん：1本\n",
      "- ジャガイモ：2個\n",
      "- ガーリック：2片（みじん切り）\n",
      "- 生姜：1片（みじん切り）\n",
      "- カレールー：4個\n",
      "- 水または鶏/牛のスープ：800ml\n",
      "- サラダ油：大さじ2\n",
      "- 塩：少々\n",
      "- こしょう：少々\n",
      "\n",
      "これらの材料をまとめて買い物してください。"
     ]
    },
    {
     "data": {
      "text/plain": [
       "AIMessageChunk(content='カレーのレシピを確認しました。以下が必要な材料です。\\n\\n- 鶏肉または牛肉：400g\\n- 玉ねぎ：2個\\n- にんじん：1本\\n- ジャガイモ：2個\\n- ガーリック：2片（みじん切り）\\n- 生姜：1片（みじん切り）\\n- カレールー：4個\\n- 水または鶏/牛のスープ：800ml\\n- サラダ油：大さじ2\\n- 塩：少々\\n- こしょう：少々\\n\\nこれらの材料をまとめて買い物してください。')"
      ]
     },
     "execution_count": 2,
     "metadata": {},
     "output_type": "execute_result"
    }
   ],
   "source": [
    "\n",
    "first_prompt = ChatPromptTemplate.from_messages([\n",
    "    (\"system\", \"あなたは料理師です。\"),\n",
    "    (\"human\", \"{cook}のレシピを教えてください。\"),\n",
    "])\n",
    "\n",
    "second_prompt = ChatPromptTemplate.from_messages([\n",
    "    (\"system\", \"あなたは料理師マスタです。\"),\n",
    "    (\"human\", \"{recepi}を確認し、買い物をまとめてください。\"),\n",
    "])\n",
    "\n",
    "first_result = first_prompt | chat\n",
    "secon_result = second_prompt | chat\n",
    "final_result = {\"recepi\": first_result} | secon_result\n",
    "\n",
    "final_result.invoke({\"cook\": \"カレー\"})\n",
    "\n"
   ]
  }
 ],
 "metadata": {
  "kernelspec": {
   "display_name": "env",
   "language": "python",
   "name": "python3"
  },
  "language_info": {
   "codemirror_mode": {
    "name": "ipython",
    "version": 3
   },
   "file_extension": ".py",
   "mimetype": "text/x-python",
   "name": "python",
   "nbconvert_exporter": "python",
   "pygments_lexer": "ipython3",
   "version": "3.11.4"
  }
 },
 "nbformat": 4,
 "nbformat_minor": 2
}
